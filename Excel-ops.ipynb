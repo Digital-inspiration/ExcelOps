{
 "cells": [
  {
   "cell_type": "markdown",
   "id": "b545c015-4248-4561-8389-b6e8a752e424",
   "metadata": {},
   "source": [
    "# Working with Excel storing and extracting data from excel"
   ]
  },
  {
   "cell_type": "code",
   "execution_count": 2,
   "id": "e8a96cb5",
   "metadata": {},
   "outputs": [
    {
     "name": "stdout",
     "output_type": "stream",
     "text": [
      "Requirement already satisfied: openpyxl in c:\\users\\zili\\anaconda3\\lib\\site-packages (3.0.10)\n",
      "Requirement already satisfied: et_xmlfile in c:\\users\\zili\\anaconda3\\lib\\site-packages (from openpyxl) (1.1.0)\n",
      "Note: you may need to restart the kernel to use updated packages.\n"
     ]
    }
   ],
   "source": [
    "pip install openpyxl"
   ]
  },
  {
   "cell_type": "code",
   "execution_count": 8,
   "id": "5a7b7e75",
   "metadata": {},
   "outputs": [],
   "source": [
    "from openpyxl import Workbook, load_workbook\n",
    "from openpyxl.utils import get_column_letter\n",
    "\n",
    "\n",
    "#to create a new workbook\n",
    "wb = Workbook()\n",
    "\n",
    "ws = wb.active\n",
    "ws.title = \"Data\"\n",
    "ws.append([\"Date\",\"Category\",\"Expenses\",\"Amount (AUD)\"])\n",
    "ws.append([\"16-Sep-2023\",\"Grocery\",\"Coles\",\"$43.03\"])\n",
    "ws.append([\"16-Sep-2023\",\"Misc\",\"Swim\",\"$405\"])\n",
    "ws.append([\"1-Oct-2023\",\"Misc\",\"Hobby\",\"$45\"])\n",
    "ws.append([\"18-Oct-2023\",\"Hobby\",\"Guitar\",\"$305\"])\n",
    "\n",
    "wb.save('test_short_projects.xlsx')"
   ]
  },
  {
   "cell_type": "code",
   "execution_count": 11,
   "id": "d6734b6c",
   "metadata": {},
   "outputs": [
    {
     "name": "stdout",
     "output_type": "stream",
     "text": [
      "Date\t\n",
      "Category\t\n",
      "Expenses\t\n",
      "Amount (AUD)\t\n",
      "\n",
      "\n",
      "16-Sep-2023\t\n",
      "Grocery\t\n",
      "Coles\t\n",
      "$43.03\t\n",
      "\n",
      "\n",
      "16-Sep-2023\t\n",
      "Misc\t\n",
      "Swim\t\n",
      "$405\t\n",
      "\n",
      "\n",
      "1-Oct-2023\t\n",
      "Misc\t\n",
      "Hobby\t\n",
      "$405\t\n",
      "\n",
      "\n",
      "18-Oct-2023\t\n",
      "Hobby\t\n",
      "Guitar\t\n",
      "$405\t\n",
      "\n",
      "\n"
     ]
    }
   ],
   "source": [
    "#Reading data froom the excel\n",
    "from openpyxl import Workbook, load_workbook\n",
    "from openpyxl.utils import get_column_letter\n",
    " \n",
    "#to load a workbook\n",
    "wb = load_workbook('test_short_projects.xlsx')\n",
    "ws = wb.active\n",
    "\n",
    "\n",
    "for row in range(1,6) :\n",
    "    for col in range(1,5): \n",
    "        char = get_column_letter(col)\n",
    "        str_row = str(row)\n",
    "       \n",
    "        print(ws[char+str_row].value+\"\\t\")\n",
    "    print(\"\\n\")\n",
    " "
   ]
  },
  {
   "cell_type": "code",
   "execution_count": null,
   "id": "85c83961",
   "metadata": {},
   "outputs": [],
   "source": []
  }
 ],
 "metadata": {
  "kernelspec": {
   "display_name": "Python 3 (ipykernel)",
   "language": "python",
   "name": "python3"
  },
  "language_info": {
   "codemirror_mode": {
    "name": "ipython",
    "version": 3
   },
   "file_extension": ".py",
   "mimetype": "text/x-python",
   "name": "python",
   "nbconvert_exporter": "python",
   "pygments_lexer": "ipython3",
   "version": "3.11.5"
  }
 },
 "nbformat": 4,
 "nbformat_minor": 5
}
